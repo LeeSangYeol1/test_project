{
  "cells": [
    {
      "cell_type": "markdown",
      "metadata": {
        "id": "view-in-github",
        "colab_type": "text"
      },
      "source": [
        "<a href=\"https://colab.research.google.com/github/LeeSangYeol1/test_project/blob/main/Colaboratory%EC%97%90_%EC%98%A4%EC%8B%A0_%EA%B2%83%EC%9D%84_%ED%99%98%EC%98%81%ED%95%A9%EB%8B%88%EB%8B%A4.ipynb\" target=\"_parent\"><img src=\"https://colab.research.google.com/assets/colab-badge.svg\" alt=\"Open In Colab\"/></a>"
      ]
    },
    {
      "cell_type": "code",
      "source": [
        "# 사전의 구조와 이해\n",
        "\n",
        "price = {'김밥': 5000, '어묵':3000, '떡볶이':2000}\n",
        "\n",
        "print(\"김밥의 가격은? \" + str(price['김밥'])\n",
        "\n",
        "print(price.values())"
      ],
      "metadata": {
        "colab": {
          "base_uri": "https://localhost:8080/",
          "height": 137
        },
        "id": "hHJO96hy-K3N",
        "outputId": "b6a8aed1-91b2-48da-b9c1-225456593602"
      },
      "execution_count": 4,
      "outputs": [
        {
          "output_type": "error",
          "ename": "SyntaxError",
          "evalue": "ignored",
          "traceback": [
            "\u001b[0;36m  File \u001b[0;32m\"<ipython-input-4-c55e59b2df46>\"\u001b[0;36m, line \u001b[0;32m7\u001b[0m\n\u001b[0;31m    print(price.values())\u001b[0m\n\u001b[0m        ^\u001b[0m\n\u001b[0;31mSyntaxError\u001b[0m\u001b[0;31m:\u001b[0m invalid syntax\n"
          ]
        }
      ]
    },
    {
      "cell_type": "code",
      "source": [
        "# 알고리즘 생성\n",
        "# 피보나치 수열을 계산하는 함수를 생성하고 자연수 10을 넣어 실행하세요\n",
        "\n",
        "def pivo(count):\n",
        "    list = [0,1]\n",
        "    i = 1\n",
        "    while list[i] < count:\n",
        "        sum = list[i-1] + list[i]\n",
        "        list.append(sum)\n",
        "        i+=1\n",
        "    if list[i] > count:\n",
        "        del list [i]\n",
        "    return list\n",
        "\n",
        "print(pivo(10))\n"
      ],
      "metadata": {
        "colab": {
          "base_uri": "https://localhost:8080/"
        },
        "id": "sxWdvfhoAhdz",
        "outputId": "443166bc-2e3a-48ba-e030-3288290a3416"
      },
      "execution_count": 8,
      "outputs": [
        {
          "output_type": "stream",
          "name": "stdout",
          "text": [
            "[0, 1, 1, 2, 3, 5, 8]\n"
          ]
        }
      ]
    },
    {
      "cell_type": "code",
      "source": [
        "# 클래스\n",
        "# 사람 (Human) 클래스를 정의하고 (이름, 나이, 성별)을 받는 생성자를 추가하세요.\n",
        "class Human:\n",
        "    def Human_information(self,name,age,sec):\n",
        "        self.name = name\n",
        "        self.age = age\n",
        "        self.sex = sex\n",
        "\n",
        "    def printf_info(self):\n",
        "        print(\"이름: \", self.name)\n",
        "        print(\"나이: \", self.age)\n",
        "        print(\"성별: \", self.sex)\n",
        "    def set_Human():\n",
        "        name = input(\"이름: \")\n",
        "        age = input(\"나이: \")\n",
        "        sex = input(\"성별: \")\n",
        "    def run():\n",
        "        set_Human()\n",
        " run()\n"
      ],
      "metadata": {
        "colab": {
          "base_uri": "https://localhost:8080/",
          "height": 137
        },
        "id": "SgEtKjU0Alx_",
        "outputId": "b71b7f21-fdaf-47eb-fdd3-818040b8ca0a"
      },
      "execution_count": 9,
      "outputs": [
        {
          "output_type": "error",
          "ename": "IndentationError",
          "evalue": "ignored",
          "traceback": [
            "\u001b[0;36m  File \u001b[0;32m\"<ipython-input-9-258154f3ed71>\"\u001b[0;36m, line \u001b[0;32m19\u001b[0m\n\u001b[0;31m    run()\u001b[0m\n\u001b[0m         ^\u001b[0m\n\u001b[0;31mIndentationError\u001b[0m\u001b[0;31m:\u001b[0m unindent does not match any outer indentation level\n"
          ]
        }
      ]
    },
    {
      "cell_type": "code",
      "source": [
        "# 함수를 만들고 두 수를 입력받아 연산하세요\n",
        "\n",
        "a = int(input('첫 번째 정수를 입력하세요: '))\n",
        "b = int(input('두 번째 정수를 입력하세요: '))\n",
        "\n",
        "def add(num1,num2):\n",
        "    return num1 + num2\n",
        "def mul(numm1,num2):\n",
        "    return num1*num2\n",
        "def squ(numm1,num2):\n",
        "    return num1**num2\n",
        "    "
      ],
      "metadata": {
        "colab": {
          "base_uri": "https://localhost:8080/"
        },
        "id": "VAS-c9wp_he_",
        "outputId": "9b034d1a-144c-4d24-b7fa-9174697d4c81"
      },
      "execution_count": 7,
      "outputs": [
        {
          "name": "stdout",
          "output_type": "stream",
          "text": [
            "첫 번째 정수를 입력하세요: 3\n",
            "두 번째 정수를 입력하세요: 5\n"
          ]
        }
      ]
    },
    {
      "cell_type": "code",
      "source": [
        "# 조건문\n",
        "# 점수를 입력받아 등급을 출력하세요\n",
        "# 등급표 81~100\tA / 61~80\tB / 41~60\tC / 21~40\tD / 0~20\tE\n",
        "\n",
        "score = int(input(\"점수를 입력하세요: \"))\n",
        "\n",
        "grade\"\"\n",
        "\n",
        "if 80 < score <= 100:\n",
        "    grade = 'A'\n",
        "elif 60 < score:\n",
        "    grade = 'B'\n",
        "elif 40 < score:\n",
        "    grade = 'C'\n",
        "elif 20 < score:\n",
        "    grade = 'D'\n",
        "else:\n",
        "    grade = 'E'\n",
        "\n",
        "print('점수는 ' + str(score) + '점이며 등급은 ' grade + ' 등급입니다.')"
      ],
      "metadata": {
        "colab": {
          "base_uri": "https://localhost:8080/",
          "height": 137
        },
        "id": "1l83YSTX_wcf",
        "outputId": "c25858dc-65a3-456d-c3f6-8de6f0365d82"
      },
      "execution_count": 6,
      "outputs": [
        {
          "output_type": "error",
          "ename": "SyntaxError",
          "evalue": "ignored",
          "traceback": [
            "\u001b[0;36m  File \u001b[0;32m\"<ipython-input-6-39916e366bb1>\"\u001b[0;36m, line \u001b[0;32m7\u001b[0m\n\u001b[0;31m    grade\" \"\u001b[0m\n\u001b[0m           ^\u001b[0m\n\u001b[0;31mSyntaxError\u001b[0m\u001b[0;31m:\u001b[0m invalid syntax\n"
          ]
        }
      ]
    },
    {
      "cell_type": "code",
      "source": [
        "# 리스트의 슬라이싱을 사용하여 아래를 출력하세요\n",
        "\n",
        "tp = [1,2,3,4,5,6,7]\n",
        "\n",
        "print(tp[0])\n",
        "\n",
        "print(tp[0:4])\n",
        "\n",
        "print(tp[3:7])\n",
        "\n",
        "print(tp[6])\n",
        "\n",
        "print(tp[::-1])"
      ],
      "metadata": {
        "colab": {
          "base_uri": "https://localhost:8080/"
        },
        "id": "c_QlXxm4-pcc",
        "outputId": "e90b2028-fca0-43db-a473-97e6a21e0cce"
      },
      "execution_count": 3,
      "outputs": [
        {
          "output_type": "stream",
          "name": "stdout",
          "text": [
            "1\n",
            "[1, 2, 3, 4]\n",
            "[4, 5, 6, 7]\n",
            "7\n",
            "[7, 6, 5, 4, 3, 2, 1]\n"
          ]
        }
      ]
    }
  ],
  "metadata": {
    "colab": {
      "collapsed_sections": [],
      "name": "Colaboratory에 오신 것을 환영합니다",
      "toc_visible": true,
      "provenance": [],
      "include_colab_link": true
    },
    "kernelspec": {
      "display_name": "Python 3",
      "name": "python3"
    }
  },
  "nbformat": 4,
  "nbformat_minor": 0
}