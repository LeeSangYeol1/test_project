{
  "nbformat": 4,
  "nbformat_minor": 0,
  "metadata": {
    "colab": {
      "name": "assignment 03",
      "provenance": [],
      "authorship_tag": "ABX9TyNsVg4I9gfDiFyWhGN5MakY",
      "include_colab_link": true
    },
    "kernelspec": {
      "name": "python3",
      "display_name": "Python 3"
    },
    "language_info": {
      "name": "python"
    }
  },
  "cells": [
    {
      "cell_type": "markdown",
      "metadata": {
        "id": "view-in-github",
        "colab_type": "text"
      },
      "source": [
        "<a href=\"https://colab.research.google.com/github/LeeSangYeol1/test_project/blob/main/assignment_03.ipynb\" target=\"_parent\"><img src=\"https://colab.research.google.com/assets/colab-badge.svg\" alt=\"Open In Colab\"/></a>"
      ]
    },
    {
      "cell_type": "code",
      "source": [
        "import SimpleITK as sitk\n",
        "from skimage.transform import rotate\n",
        "import cv2 as cv\n",
        "from keras.preprocessing import image as kimg\n",
        "import numpy as np"
      ],
      "metadata": {
        "id": "RHoGKF4e9JA-"
      },
      "execution_count": null,
      "outputs": []
    },
    {
      "cell_type": "code",
      "source": [
        "test_data = './Deepnoid-Education/dataset/test.dcm'\n",
        "#############################\n",
        "# fill the blank\n",
        "# original image 와 augmentation 한 image를 4장을 만드세요 \n",
        "# 5장의 이미지를 하나의 array로 만드세요\n",
        "# array를 마지막에 있는 display의 argument로 넣어서 현재 출력된 이미지와 유사하도록 만드세요\n",
        "test_data "
      ],
      "metadata": {
        "id": "PNH9Xctf9MBZ"
      },
      "execution_count": null,
      "outputs": []
    },
    {
      "cell_type": "markdown",
      "source": [
        ""
      ],
      "metadata": {
        "id": "oOXMLVDH9P2w"
      }
    },
    {
      "cell_type": "code",
      "source": [
        "# display 함수는 수정하지 말고 그대로 사용해주세요.\n",
        "def display(array):\n",
        "  import matplotlib.pyplot as plt\n",
        "  for i in range(array.shape[0]):\n",
        "    plt.imshow(array[i], cmap='gray')\n",
        "    plt.show()"
      ],
      "metadata": {
        "id": "QIoiHeBG9OhB"
      },
      "execution_count": null,
      "outputs": []
    },
    {
      "cell_type": "code",
      "source": [
        "# display 함수를 이용해 아래와 같은 이미지를 출력하세요.\n",
        "display(test_data)\n"
      ],
      "metadata": {
        "id": "qv5EX38O9RP7"
      },
      "execution_count": null,
      "outputs": []
    }
  ]
}